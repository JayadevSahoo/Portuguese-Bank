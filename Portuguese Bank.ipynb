{
 "cells": [
  {
   "cell_type": "markdown",
   "id": "93baeccf",
   "metadata": {},
   "source": [
    "# Business Problem"
   ]
  },
  {
   "cell_type": "markdown",
   "id": "b917a016",
   "metadata": {},
   "source": [
    "The business problem is a binary classification problem. The  goal is to predict if the client contacted through the marketing campaign will subscribe a term deposit."
   ]
  },
  {
   "cell_type": "code",
   "execution_count": 1,
   "id": "a2b972e7",
   "metadata": {},
   "outputs": [],
   "source": [
    "import pandas as pd\n",
    "import numpy as np\n",
    "from sklearn import preprocessing\n",
    "from sklearn.preprocessing import StandardScaler\n",
    "from sklearn.model_selection import train_test_split\n",
    "from sklearn.linear_model import LogisticRegression\n",
    "from sklearn.discriminant_analysis import LinearDiscriminantAnalysis\n",
    "from sklearn.tree import DecisionTreeClassifier\n",
    "from sklearn.naive_bayes import GaussianNB\n",
    "from sklearn.neighbors import KNeighborsClassifier\n",
    "from sklearn.svm import SVC\n",
    "from sklearn.ensemble import RandomForestClassifier\n",
    "from sklearn.ensemble import AdaBoostClassifier\n",
    "from sklearn.decomposition import PCA\n",
    "from sklearn import model_selection\n",
    "from sklearn.metrics import classification_report\n",
    "from sklearn.metrics import confusion_matrix\n",
    "from sklearn.metrics import accuracy_score\n",
    "import matplotlib.pyplot as plt\n",
    "%matplotlib inline\n",
    "import seaborn as sns"
   ]
  },
  {
   "cell_type": "code",
   "execution_count": 2,
   "id": "ceb9ccf4",
   "metadata": {},
   "outputs": [],
   "source": [
    "data_train = pd.read_csv(\"bank-additional-full.csv\")"
   ]
  },
  {
   "cell_type": "code",
   "execution_count": 3,
   "id": "1974a1ae",
   "metadata": {},
   "outputs": [
    {
     "data": {
      "text/html": [
       "<div>\n",
       "<style scoped>\n",
       "    .dataframe tbody tr th:only-of-type {\n",
       "        vertical-align: middle;\n",
       "    }\n",
       "\n",
       "    .dataframe tbody tr th {\n",
       "        vertical-align: top;\n",
       "    }\n",
       "\n",
       "    .dataframe thead th {\n",
       "        text-align: right;\n",
       "    }\n",
       "</style>\n",
       "<table border=\"1\" class=\"dataframe\">\n",
       "  <thead>\n",
       "    <tr style=\"text-align: right;\">\n",
       "      <th></th>\n",
       "      <th>age;\"job\";\"marital\";\"education\";\"default\";\"housing\";\"loan\";\"contact\";\"month\";\"day_of_week\";\"duration\";\"campaign\";\"pdays\";\"previous\";\"poutcome\";\"emp.var.rate\";\"cons.price.idx\";\"cons.conf.idx\";\"euribor3m\";\"nr.employed\";\"y\"</th>\n",
       "    </tr>\n",
       "  </thead>\n",
       "  <tbody>\n",
       "    <tr>\n",
       "      <th>0</th>\n",
       "      <td>56;\"housemaid\";\"married\";\"basic.4y\";\"no\";\"no\";...</td>\n",
       "    </tr>\n",
       "    <tr>\n",
       "      <th>1</th>\n",
       "      <td>57;\"services\";\"married\";\"high.school\";\"unknown...</td>\n",
       "    </tr>\n",
       "    <tr>\n",
       "      <th>2</th>\n",
       "      <td>37;\"services\";\"married\";\"high.school\";\"no\";\"ye...</td>\n",
       "    </tr>\n",
       "    <tr>\n",
       "      <th>3</th>\n",
       "      <td>40;\"admin.\";\"married\";\"basic.6y\";\"no\";\"no\";\"no...</td>\n",
       "    </tr>\n",
       "    <tr>\n",
       "      <th>4</th>\n",
       "      <td>56;\"services\";\"married\";\"high.school\";\"no\";\"no...</td>\n",
       "    </tr>\n",
       "  </tbody>\n",
       "</table>\n",
       "</div>"
      ],
      "text/plain": [
       "  age;\"job\";\"marital\";\"education\";\"default\";\"housing\";\"loan\";\"contact\";\"month\";\"day_of_week\";\"duration\";\"campaign\";\"pdays\";\"previous\";\"poutcome\";\"emp.var.rate\";\"cons.price.idx\";\"cons.conf.idx\";\"euribor3m\";\"nr.employed\";\"y\"\n",
       "0  56;\"housemaid\";\"married\";\"basic.4y\";\"no\";\"no\";...                                                                                                                                                                          \n",
       "1  57;\"services\";\"married\";\"high.school\";\"unknown...                                                                                                                                                                          \n",
       "2  37;\"services\";\"married\";\"high.school\";\"no\";\"ye...                                                                                                                                                                          \n",
       "3  40;\"admin.\";\"married\";\"basic.6y\";\"no\";\"no\";\"no...                                                                                                                                                                          \n",
       "4  56;\"services\";\"married\";\"high.school\";\"no\";\"no...                                                                                                                                                                          "
      ]
     },
     "execution_count": 3,
     "metadata": {},
     "output_type": "execute_result"
    }
   ],
   "source": [
    "data_train.head()"
   ]
  },
  {
   "cell_type": "code",
   "execution_count": 4,
   "id": "6a3df4c1",
   "metadata": {},
   "outputs": [],
   "source": [
    "data_train = pd.read_csv(\"bank-additional-full.csv\", na_values =['NA'])\n",
    "columns = data_train.columns.values[0].split(';')\n",
    "columns = [column.replace('\"', '') for column in columns]\n",
    "data_train = data_train.values\n",
    "data_train = [items[0].split(';') for items in data_train]\n",
    "data_train = pd.DataFrame(data_train,columns = columns)\n",
    "\n",
    "data_train['job'] = data_train['job'].str.replace('\"', '')\n",
    "data_train['marital'] = data_train['marital'].str.replace('\"', '')\n",
    "data_train['education'] = data_train['education'].str.replace('\"', '')\n",
    "data_train['default'] = data_train['default'].str.replace('\"', '')\n",
    "data_train['housing'] = data_train['housing'].str.replace('\"', '')\n",
    "data_train['loan'] = data_train['loan'].str.replace('\"', '')\n",
    "data_train['contact'] = data_train['contact'].str.replace('\"', '')\n",
    "data_train['month'] = data_train['month'].str.replace('\"', '')\n",
    "data_train['day_of_week'] = data_train['day_of_week'].str.replace('\"', '')\n",
    "data_train['poutcome'] = data_train['poutcome'].str.replace('\"', '')\n",
    "data_train['y'] = data_train['y'].str.replace('\"', '')"
   ]
  },
  {
   "cell_type": "code",
   "execution_count": 5,
   "id": "b8b55324",
   "metadata": {},
   "outputs": [
    {
     "data": {
      "text/html": [
       "<div>\n",
       "<style scoped>\n",
       "    .dataframe tbody tr th:only-of-type {\n",
       "        vertical-align: middle;\n",
       "    }\n",
       "\n",
       "    .dataframe tbody tr th {\n",
       "        vertical-align: top;\n",
       "    }\n",
       "\n",
       "    .dataframe thead th {\n",
       "        text-align: right;\n",
       "    }\n",
       "</style>\n",
       "<table border=\"1\" class=\"dataframe\">\n",
       "  <thead>\n",
       "    <tr style=\"text-align: right;\">\n",
       "      <th></th>\n",
       "      <th>age</th>\n",
       "      <th>job</th>\n",
       "      <th>marital</th>\n",
       "      <th>education</th>\n",
       "      <th>default</th>\n",
       "      <th>housing</th>\n",
       "      <th>loan</th>\n",
       "      <th>contact</th>\n",
       "      <th>month</th>\n",
       "      <th>day_of_week</th>\n",
       "      <th>...</th>\n",
       "      <th>campaign</th>\n",
       "      <th>pdays</th>\n",
       "      <th>previous</th>\n",
       "      <th>poutcome</th>\n",
       "      <th>emp.var.rate</th>\n",
       "      <th>cons.price.idx</th>\n",
       "      <th>cons.conf.idx</th>\n",
       "      <th>euribor3m</th>\n",
       "      <th>nr.employed</th>\n",
       "      <th>y</th>\n",
       "    </tr>\n",
       "  </thead>\n",
       "  <tbody>\n",
       "    <tr>\n",
       "      <th>0</th>\n",
       "      <td>56</td>\n",
       "      <td>housemaid</td>\n",
       "      <td>married</td>\n",
       "      <td>basic.4y</td>\n",
       "      <td>no</td>\n",
       "      <td>no</td>\n",
       "      <td>no</td>\n",
       "      <td>telephone</td>\n",
       "      <td>may</td>\n",
       "      <td>mon</td>\n",
       "      <td>...</td>\n",
       "      <td>1</td>\n",
       "      <td>999</td>\n",
       "      <td>0</td>\n",
       "      <td>nonexistent</td>\n",
       "      <td>1.1</td>\n",
       "      <td>93.994</td>\n",
       "      <td>-36.4</td>\n",
       "      <td>4.857</td>\n",
       "      <td>5191</td>\n",
       "      <td>no</td>\n",
       "    </tr>\n",
       "    <tr>\n",
       "      <th>1</th>\n",
       "      <td>57</td>\n",
       "      <td>services</td>\n",
       "      <td>married</td>\n",
       "      <td>high.school</td>\n",
       "      <td>unknown</td>\n",
       "      <td>no</td>\n",
       "      <td>no</td>\n",
       "      <td>telephone</td>\n",
       "      <td>may</td>\n",
       "      <td>mon</td>\n",
       "      <td>...</td>\n",
       "      <td>1</td>\n",
       "      <td>999</td>\n",
       "      <td>0</td>\n",
       "      <td>nonexistent</td>\n",
       "      <td>1.1</td>\n",
       "      <td>93.994</td>\n",
       "      <td>-36.4</td>\n",
       "      <td>4.857</td>\n",
       "      <td>5191</td>\n",
       "      <td>no</td>\n",
       "    </tr>\n",
       "    <tr>\n",
       "      <th>2</th>\n",
       "      <td>37</td>\n",
       "      <td>services</td>\n",
       "      <td>married</td>\n",
       "      <td>high.school</td>\n",
       "      <td>no</td>\n",
       "      <td>yes</td>\n",
       "      <td>no</td>\n",
       "      <td>telephone</td>\n",
       "      <td>may</td>\n",
       "      <td>mon</td>\n",
       "      <td>...</td>\n",
       "      <td>1</td>\n",
       "      <td>999</td>\n",
       "      <td>0</td>\n",
       "      <td>nonexistent</td>\n",
       "      <td>1.1</td>\n",
       "      <td>93.994</td>\n",
       "      <td>-36.4</td>\n",
       "      <td>4.857</td>\n",
       "      <td>5191</td>\n",
       "      <td>no</td>\n",
       "    </tr>\n",
       "    <tr>\n",
       "      <th>3</th>\n",
       "      <td>40</td>\n",
       "      <td>admin.</td>\n",
       "      <td>married</td>\n",
       "      <td>basic.6y</td>\n",
       "      <td>no</td>\n",
       "      <td>no</td>\n",
       "      <td>no</td>\n",
       "      <td>telephone</td>\n",
       "      <td>may</td>\n",
       "      <td>mon</td>\n",
       "      <td>...</td>\n",
       "      <td>1</td>\n",
       "      <td>999</td>\n",
       "      <td>0</td>\n",
       "      <td>nonexistent</td>\n",
       "      <td>1.1</td>\n",
       "      <td>93.994</td>\n",
       "      <td>-36.4</td>\n",
       "      <td>4.857</td>\n",
       "      <td>5191</td>\n",
       "      <td>no</td>\n",
       "    </tr>\n",
       "    <tr>\n",
       "      <th>4</th>\n",
       "      <td>56</td>\n",
       "      <td>services</td>\n",
       "      <td>married</td>\n",
       "      <td>high.school</td>\n",
       "      <td>no</td>\n",
       "      <td>no</td>\n",
       "      <td>yes</td>\n",
       "      <td>telephone</td>\n",
       "      <td>may</td>\n",
       "      <td>mon</td>\n",
       "      <td>...</td>\n",
       "      <td>1</td>\n",
       "      <td>999</td>\n",
       "      <td>0</td>\n",
       "      <td>nonexistent</td>\n",
       "      <td>1.1</td>\n",
       "      <td>93.994</td>\n",
       "      <td>-36.4</td>\n",
       "      <td>4.857</td>\n",
       "      <td>5191</td>\n",
       "      <td>no</td>\n",
       "    </tr>\n",
       "  </tbody>\n",
       "</table>\n",
       "<p>5 rows × 21 columns</p>\n",
       "</div>"
      ],
      "text/plain": [
       "  age        job  marital    education  default housing loan    contact month  \\\n",
       "0  56  housemaid  married     basic.4y       no      no   no  telephone   may   \n",
       "1  57   services  married  high.school  unknown      no   no  telephone   may   \n",
       "2  37   services  married  high.school       no     yes   no  telephone   may   \n",
       "3  40     admin.  married     basic.6y       no      no   no  telephone   may   \n",
       "4  56   services  married  high.school       no      no  yes  telephone   may   \n",
       "\n",
       "  day_of_week  ... campaign pdays previous     poutcome emp.var.rate  \\\n",
       "0         mon  ...        1   999        0  nonexistent          1.1   \n",
       "1         mon  ...        1   999        0  nonexistent          1.1   \n",
       "2         mon  ...        1   999        0  nonexistent          1.1   \n",
       "3         mon  ...        1   999        0  nonexistent          1.1   \n",
       "4         mon  ...        1   999        0  nonexistent          1.1   \n",
       "\n",
       "  cons.price.idx cons.conf.idx euribor3m nr.employed   y  \n",
       "0         93.994         -36.4     4.857        5191  no  \n",
       "1         93.994         -36.4     4.857        5191  no  \n",
       "2         93.994         -36.4     4.857        5191  no  \n",
       "3         93.994         -36.4     4.857        5191  no  \n",
       "4         93.994         -36.4     4.857        5191  no  \n",
       "\n",
       "[5 rows x 21 columns]"
      ]
     },
     "execution_count": 5,
     "metadata": {},
     "output_type": "execute_result"
    }
   ],
   "source": [
    "data_train.head()"
   ]
  },
  {
   "cell_type": "code",
   "execution_count": 6,
   "id": "e63d706a",
   "metadata": {},
   "outputs": [],
   "source": [
    "data_test = pd.read_csv(\"bank-additional.csv\", na_values =['NA'])\n",
    "data_test = data_test.values\n",
    "data_test = [items[0].split(';') for items in data_test]\n",
    "data_test = pd.DataFrame(data_test,columns = columns)\n",
    "\n",
    "data_test['job'] = data_test['job'].str.replace('\"', '')\n",
    "data_test['marital'] = data_test['marital'].str.replace('\"', '')\n",
    "data_test['education'] = data_test['education'].str.replace('\"', '')\n",
    "data_test['default'] = data_test['default'].str.replace('\"', '')\n",
    "data_test['housing'] = data_test['housing'].str.replace('\"', '')\n",
    "data_test['loan'] = data_test['loan'].str.replace('\"', '')\n",
    "data_test['contact'] = data_test['contact'].str.replace('\"', '')\n",
    "data_test['month'] = data_test['month'].str.replace('\"', '')\n",
    "data_test['day_of_week'] = data_test['day_of_week'].str.replace('\"', '')\n",
    "data_test['poutcome'] = data_test['poutcome'].str.replace('\"', '')\n",
    "data_test['y'] = data_test['y'].str.replace('\"', '')"
   ]
  },
  {
   "cell_type": "code",
   "execution_count": 7,
   "id": "38f6d2b7",
   "metadata": {},
   "outputs": [
    {
     "data": {
      "text/html": [
       "<div>\n",
       "<style scoped>\n",
       "    .dataframe tbody tr th:only-of-type {\n",
       "        vertical-align: middle;\n",
       "    }\n",
       "\n",
       "    .dataframe tbody tr th {\n",
       "        vertical-align: top;\n",
       "    }\n",
       "\n",
       "    .dataframe thead th {\n",
       "        text-align: right;\n",
       "    }\n",
       "</style>\n",
       "<table border=\"1\" class=\"dataframe\">\n",
       "  <thead>\n",
       "    <tr style=\"text-align: right;\">\n",
       "      <th></th>\n",
       "      <th>age</th>\n",
       "      <th>job</th>\n",
       "      <th>marital</th>\n",
       "      <th>education</th>\n",
       "      <th>default</th>\n",
       "      <th>housing</th>\n",
       "      <th>loan</th>\n",
       "      <th>contact</th>\n",
       "      <th>month</th>\n",
       "      <th>day_of_week</th>\n",
       "      <th>...</th>\n",
       "      <th>campaign</th>\n",
       "      <th>pdays</th>\n",
       "      <th>previous</th>\n",
       "      <th>poutcome</th>\n",
       "      <th>emp.var.rate</th>\n",
       "      <th>cons.price.idx</th>\n",
       "      <th>cons.conf.idx</th>\n",
       "      <th>euribor3m</th>\n",
       "      <th>nr.employed</th>\n",
       "      <th>y</th>\n",
       "    </tr>\n",
       "  </thead>\n",
       "  <tbody>\n",
       "    <tr>\n",
       "      <th>0</th>\n",
       "      <td>30</td>\n",
       "      <td>blue-collar</td>\n",
       "      <td>married</td>\n",
       "      <td>basic.9y</td>\n",
       "      <td>no</td>\n",
       "      <td>yes</td>\n",
       "      <td>no</td>\n",
       "      <td>cellular</td>\n",
       "      <td>may</td>\n",
       "      <td>fri</td>\n",
       "      <td>...</td>\n",
       "      <td>2</td>\n",
       "      <td>999</td>\n",
       "      <td>0</td>\n",
       "      <td>nonexistent</td>\n",
       "      <td>-1.8</td>\n",
       "      <td>92.893</td>\n",
       "      <td>-46.2</td>\n",
       "      <td>1.313</td>\n",
       "      <td>5099.1</td>\n",
       "      <td>no</td>\n",
       "    </tr>\n",
       "    <tr>\n",
       "      <th>1</th>\n",
       "      <td>39</td>\n",
       "      <td>services</td>\n",
       "      <td>single</td>\n",
       "      <td>high.school</td>\n",
       "      <td>no</td>\n",
       "      <td>no</td>\n",
       "      <td>no</td>\n",
       "      <td>telephone</td>\n",
       "      <td>may</td>\n",
       "      <td>fri</td>\n",
       "      <td>...</td>\n",
       "      <td>4</td>\n",
       "      <td>999</td>\n",
       "      <td>0</td>\n",
       "      <td>nonexistent</td>\n",
       "      <td>1.1</td>\n",
       "      <td>93.994</td>\n",
       "      <td>-36.4</td>\n",
       "      <td>4.855</td>\n",
       "      <td>5191</td>\n",
       "      <td>no</td>\n",
       "    </tr>\n",
       "    <tr>\n",
       "      <th>2</th>\n",
       "      <td>25</td>\n",
       "      <td>services</td>\n",
       "      <td>married</td>\n",
       "      <td>high.school</td>\n",
       "      <td>no</td>\n",
       "      <td>yes</td>\n",
       "      <td>no</td>\n",
       "      <td>telephone</td>\n",
       "      <td>jun</td>\n",
       "      <td>wed</td>\n",
       "      <td>...</td>\n",
       "      <td>1</td>\n",
       "      <td>999</td>\n",
       "      <td>0</td>\n",
       "      <td>nonexistent</td>\n",
       "      <td>1.4</td>\n",
       "      <td>94.465</td>\n",
       "      <td>-41.8</td>\n",
       "      <td>4.962</td>\n",
       "      <td>5228.1</td>\n",
       "      <td>no</td>\n",
       "    </tr>\n",
       "    <tr>\n",
       "      <th>3</th>\n",
       "      <td>38</td>\n",
       "      <td>services</td>\n",
       "      <td>married</td>\n",
       "      <td>basic.9y</td>\n",
       "      <td>no</td>\n",
       "      <td>unknown</td>\n",
       "      <td>unknown</td>\n",
       "      <td>telephone</td>\n",
       "      <td>jun</td>\n",
       "      <td>fri</td>\n",
       "      <td>...</td>\n",
       "      <td>3</td>\n",
       "      <td>999</td>\n",
       "      <td>0</td>\n",
       "      <td>nonexistent</td>\n",
       "      <td>1.4</td>\n",
       "      <td>94.465</td>\n",
       "      <td>-41.8</td>\n",
       "      <td>4.959</td>\n",
       "      <td>5228.1</td>\n",
       "      <td>no</td>\n",
       "    </tr>\n",
       "    <tr>\n",
       "      <th>4</th>\n",
       "      <td>47</td>\n",
       "      <td>admin.</td>\n",
       "      <td>married</td>\n",
       "      <td>university.degree</td>\n",
       "      <td>no</td>\n",
       "      <td>yes</td>\n",
       "      <td>no</td>\n",
       "      <td>cellular</td>\n",
       "      <td>nov</td>\n",
       "      <td>mon</td>\n",
       "      <td>...</td>\n",
       "      <td>1</td>\n",
       "      <td>999</td>\n",
       "      <td>0</td>\n",
       "      <td>nonexistent</td>\n",
       "      <td>-0.1</td>\n",
       "      <td>93.2</td>\n",
       "      <td>-42</td>\n",
       "      <td>4.191</td>\n",
       "      <td>5195.8</td>\n",
       "      <td>no</td>\n",
       "    </tr>\n",
       "  </tbody>\n",
       "</table>\n",
       "<p>5 rows × 21 columns</p>\n",
       "</div>"
      ],
      "text/plain": [
       "  age          job  marital          education default  housing     loan  \\\n",
       "0  30  blue-collar  married           basic.9y      no      yes       no   \n",
       "1  39     services   single        high.school      no       no       no   \n",
       "2  25     services  married        high.school      no      yes       no   \n",
       "3  38     services  married           basic.9y      no  unknown  unknown   \n",
       "4  47       admin.  married  university.degree      no      yes       no   \n",
       "\n",
       "     contact month day_of_week  ... campaign pdays previous     poutcome  \\\n",
       "0   cellular   may         fri  ...        2   999        0  nonexistent   \n",
       "1  telephone   may         fri  ...        4   999        0  nonexistent   \n",
       "2  telephone   jun         wed  ...        1   999        0  nonexistent   \n",
       "3  telephone   jun         fri  ...        3   999        0  nonexistent   \n",
       "4   cellular   nov         mon  ...        1   999        0  nonexistent   \n",
       "\n",
       "  emp.var.rate cons.price.idx cons.conf.idx euribor3m nr.employed   y  \n",
       "0         -1.8         92.893         -46.2     1.313      5099.1  no  \n",
       "1          1.1         93.994         -36.4     4.855        5191  no  \n",
       "2          1.4         94.465         -41.8     4.962      5228.1  no  \n",
       "3          1.4         94.465         -41.8     4.959      5228.1  no  \n",
       "4         -0.1           93.2           -42     4.191      5195.8  no  \n",
       "\n",
       "[5 rows x 21 columns]"
      ]
     },
     "execution_count": 7,
     "metadata": {},
     "output_type": "execute_result"
    }
   ],
   "source": [
    "data_test.head()"
   ]
  },
  {
   "cell_type": "markdown",
   "id": "e4189707",
   "metadata": {},
   "source": [
    "# Preprocessing the data"
   ]
  },
  {
   "cell_type": "code",
   "execution_count": 7,
   "id": "4f3421cf",
   "metadata": {},
   "outputs": [],
   "source": [
    "def categorize(df):\n",
    "    new_df = df.copy()\n",
    "    le = preprocessing.LabelEncoder()\n",
    "    \n",
    "    new_df['job'] = le.fit_transform(new_df['job'])\n",
    "    new_df['marital'] = le.fit_transform(new_df['marital'])\n",
    "    new_df['education'] = le.fit_transform(new_df['education'])\n",
    "    new_df['default'] = le.fit_transform(new_df['default'])\n",
    "    new_df['housing'] = le.fit_transform(new_df['housing'])\n",
    "    new_df['month'] = le.fit_transform(new_df['month'])\n",
    "    new_df['loan'] = le.fit_transform(new_df['loan'])\n",
    "    new_df['contact'] = le.fit_transform(new_df['contact'])\n",
    "    new_df['day_of_week'] = le.fit_transform(new_df['day_of_week'])\n",
    "    new_df['poutcome'] = le.fit_transform(new_df['poutcome'])\n",
    "    new_df['y'] = le.fit_transform(new_df['y'])\n",
    "    return new_df"
   ]
  },
  {
   "cell_type": "code",
   "execution_count": 8,
   "id": "7f187446",
   "metadata": {},
   "outputs": [],
   "source": [
    "data = pd.concat([data_train, data_test])\n",
    "data.replace(['basic.6y','basic.4y', 'basic.9y'], 'basic', inplace=True)"
   ]
  },
  {
   "cell_type": "code",
   "execution_count": 9,
   "id": "16b7ae23",
   "metadata": {},
   "outputs": [
    {
     "data": {
      "text/html": [
       "<div>\n",
       "<style scoped>\n",
       "    .dataframe tbody tr th:only-of-type {\n",
       "        vertical-align: middle;\n",
       "    }\n",
       "\n",
       "    .dataframe tbody tr th {\n",
       "        vertical-align: top;\n",
       "    }\n",
       "\n",
       "    .dataframe thead th {\n",
       "        text-align: right;\n",
       "    }\n",
       "</style>\n",
       "<table border=\"1\" class=\"dataframe\">\n",
       "  <thead>\n",
       "    <tr style=\"text-align: right;\">\n",
       "      <th></th>\n",
       "      <th>age</th>\n",
       "      <th>job</th>\n",
       "      <th>marital</th>\n",
       "      <th>education</th>\n",
       "      <th>default</th>\n",
       "      <th>housing</th>\n",
       "      <th>loan</th>\n",
       "      <th>contact</th>\n",
       "      <th>month</th>\n",
       "      <th>day_of_week</th>\n",
       "      <th>...</th>\n",
       "      <th>campaign</th>\n",
       "      <th>pdays</th>\n",
       "      <th>previous</th>\n",
       "      <th>poutcome</th>\n",
       "      <th>emp.var.rate</th>\n",
       "      <th>cons.price.idx</th>\n",
       "      <th>cons.conf.idx</th>\n",
       "      <th>euribor3m</th>\n",
       "      <th>nr.employed</th>\n",
       "      <th>y</th>\n",
       "    </tr>\n",
       "  </thead>\n",
       "  <tbody>\n",
       "    <tr>\n",
       "      <th>0</th>\n",
       "      <td>56</td>\n",
       "      <td>housemaid</td>\n",
       "      <td>married</td>\n",
       "      <td>basic</td>\n",
       "      <td>no</td>\n",
       "      <td>no</td>\n",
       "      <td>no</td>\n",
       "      <td>telephone</td>\n",
       "      <td>may</td>\n",
       "      <td>mon</td>\n",
       "      <td>...</td>\n",
       "      <td>1</td>\n",
       "      <td>999</td>\n",
       "      <td>0</td>\n",
       "      <td>nonexistent</td>\n",
       "      <td>1.1</td>\n",
       "      <td>93.994</td>\n",
       "      <td>-36.4</td>\n",
       "      <td>4.857</td>\n",
       "      <td>5191</td>\n",
       "      <td>no</td>\n",
       "    </tr>\n",
       "    <tr>\n",
       "      <th>1</th>\n",
       "      <td>57</td>\n",
       "      <td>services</td>\n",
       "      <td>married</td>\n",
       "      <td>high.school</td>\n",
       "      <td>unknown</td>\n",
       "      <td>no</td>\n",
       "      <td>no</td>\n",
       "      <td>telephone</td>\n",
       "      <td>may</td>\n",
       "      <td>mon</td>\n",
       "      <td>...</td>\n",
       "      <td>1</td>\n",
       "      <td>999</td>\n",
       "      <td>0</td>\n",
       "      <td>nonexistent</td>\n",
       "      <td>1.1</td>\n",
       "      <td>93.994</td>\n",
       "      <td>-36.4</td>\n",
       "      <td>4.857</td>\n",
       "      <td>5191</td>\n",
       "      <td>no</td>\n",
       "    </tr>\n",
       "    <tr>\n",
       "      <th>2</th>\n",
       "      <td>37</td>\n",
       "      <td>services</td>\n",
       "      <td>married</td>\n",
       "      <td>high.school</td>\n",
       "      <td>no</td>\n",
       "      <td>yes</td>\n",
       "      <td>no</td>\n",
       "      <td>telephone</td>\n",
       "      <td>may</td>\n",
       "      <td>mon</td>\n",
       "      <td>...</td>\n",
       "      <td>1</td>\n",
       "      <td>999</td>\n",
       "      <td>0</td>\n",
       "      <td>nonexistent</td>\n",
       "      <td>1.1</td>\n",
       "      <td>93.994</td>\n",
       "      <td>-36.4</td>\n",
       "      <td>4.857</td>\n",
       "      <td>5191</td>\n",
       "      <td>no</td>\n",
       "    </tr>\n",
       "    <tr>\n",
       "      <th>3</th>\n",
       "      <td>40</td>\n",
       "      <td>admin.</td>\n",
       "      <td>married</td>\n",
       "      <td>basic</td>\n",
       "      <td>no</td>\n",
       "      <td>no</td>\n",
       "      <td>no</td>\n",
       "      <td>telephone</td>\n",
       "      <td>may</td>\n",
       "      <td>mon</td>\n",
       "      <td>...</td>\n",
       "      <td>1</td>\n",
       "      <td>999</td>\n",
       "      <td>0</td>\n",
       "      <td>nonexistent</td>\n",
       "      <td>1.1</td>\n",
       "      <td>93.994</td>\n",
       "      <td>-36.4</td>\n",
       "      <td>4.857</td>\n",
       "      <td>5191</td>\n",
       "      <td>no</td>\n",
       "    </tr>\n",
       "    <tr>\n",
       "      <th>4</th>\n",
       "      <td>56</td>\n",
       "      <td>services</td>\n",
       "      <td>married</td>\n",
       "      <td>high.school</td>\n",
       "      <td>no</td>\n",
       "      <td>no</td>\n",
       "      <td>yes</td>\n",
       "      <td>telephone</td>\n",
       "      <td>may</td>\n",
       "      <td>mon</td>\n",
       "      <td>...</td>\n",
       "      <td>1</td>\n",
       "      <td>999</td>\n",
       "      <td>0</td>\n",
       "      <td>nonexistent</td>\n",
       "      <td>1.1</td>\n",
       "      <td>93.994</td>\n",
       "      <td>-36.4</td>\n",
       "      <td>4.857</td>\n",
       "      <td>5191</td>\n",
       "      <td>no</td>\n",
       "    </tr>\n",
       "  </tbody>\n",
       "</table>\n",
       "<p>5 rows × 21 columns</p>\n",
       "</div>"
      ],
      "text/plain": [
       "  age        job  marital    education  default housing loan    contact month  \\\n",
       "0  56  housemaid  married        basic       no      no   no  telephone   may   \n",
       "1  57   services  married  high.school  unknown      no   no  telephone   may   \n",
       "2  37   services  married  high.school       no     yes   no  telephone   may   \n",
       "3  40     admin.  married        basic       no      no   no  telephone   may   \n",
       "4  56   services  married  high.school       no      no  yes  telephone   may   \n",
       "\n",
       "  day_of_week  ... campaign pdays previous     poutcome emp.var.rate  \\\n",
       "0         mon  ...        1   999        0  nonexistent          1.1   \n",
       "1         mon  ...        1   999        0  nonexistent          1.1   \n",
       "2         mon  ...        1   999        0  nonexistent          1.1   \n",
       "3         mon  ...        1   999        0  nonexistent          1.1   \n",
       "4         mon  ...        1   999        0  nonexistent          1.1   \n",
       "\n",
       "  cons.price.idx cons.conf.idx euribor3m nr.employed   y  \n",
       "0         93.994         -36.4     4.857        5191  no  \n",
       "1         93.994         -36.4     4.857        5191  no  \n",
       "2         93.994         -36.4     4.857        5191  no  \n",
       "3         93.994         -36.4     4.857        5191  no  \n",
       "4         93.994         -36.4     4.857        5191  no  \n",
       "\n",
       "[5 rows x 21 columns]"
      ]
     },
     "execution_count": 9,
     "metadata": {},
     "output_type": "execute_result"
    }
   ],
   "source": [
    "data.head()"
   ]
  },
  {
   "cell_type": "markdown",
   "id": "1bdd7b93",
   "metadata": {},
   "source": [
    "# Dataset Description"
   ]
  },
  {
   "cell_type": "raw",
   "id": "7e292600",
   "metadata": {},
   "source": [
    "Th employedThe data is related with direct marketing campaigns of a Portuguese banking institution. The marketing campaigns were based on phone calls. Often, more than one contact to the same client was required, in order to access if the product (bank term deposit) would be (or not) subscribed.\n",
    "Attribute/Features Description:\n",
    "Dataset have 21 attributes including one dependent attribute and there are 45211 instances/datapoints. So we have 20 predictor/independent attributes and 1 dependent attribute.\n",
    "\n",
    "bank client attributes:\n",
    "age: age of client (numeric)\n",
    "job : type of job (categorical: \"admin.\", \"unknown\", \"unemployed\", \"management\", \"housemaid\", \"entrepreneur\", \"student\", \"blue-collar\", \"self-employed\", \"retired\", \"technician\", \"services\")\n",
    "marital : marital status (categorical: \"married\", \"divorced\", \"single\")\n",
    "education: client highest education (categorical: \"unknown\", \"secondary\", \"primary\", \"tertiary\")\n",
    "default: has credit in default? (binary/2-categories: \"yes\", \"no\")\n",
    "housing: has housing loan? (binary/2-categories: \"yes\", \"no\")\n",
    "loan: has personal loan? (binary/2-categories: \"yes\", \"no\") \n",
    "\n",
    "Related with the last contact of the current campaign:\n",
    "contact: contact communication type (categorical: \"unknown\", \"telephone\", \"cellular\")\n",
    "day_of_week: last contact day of the month (numeric)\n",
    "month: last contact month of year (categorical: \"jan\", \"feb\", \"mar\", ..., \"nov\", \"dec\")\n",
    "duration: last contact duration, in seconds (numeric)\n",
    "\n",
    "other attributes:\n",
    "campaign: number of contacts performed during this campaign and for this client (numeric, includes last contact)\n",
    "pdays: number of days that passed by after the client was last contacted from a previous campaign (numeric, -1 means client was not previously contacted)\n",
    "previous: number of contacts performed before this campaign and for this client (numeric)\n",
    "poutcome: outcome of the previous marketing campaign ( categorical: 'unknown\",\"other\", \"failure\", \"success\")\n",
    "emp.var.rate: how many employee contact to customer\n",
    "Cons.price.idx: consumer price index - monthly indicator (numeric) \n",
    "Cons.conf.idx: consumer confidence index - monthly indicator (numeric) \n",
    "Euribor3m: euribor 3 month rate - daily indicator (numeric)\n",
    "Output variable (desired target):\n",
    "y: has the client subscribed a term deposit? (binary: \"yes\", \"no\")"
   ]
  },
  {
   "cell_type": "code",
   "execution_count": 10,
   "id": "614c8f54",
   "metadata": {},
   "outputs": [
    {
     "data": {
      "text/html": [
       "<div>\n",
       "<style scoped>\n",
       "    .dataframe tbody tr th:only-of-type {\n",
       "        vertical-align: middle;\n",
       "    }\n",
       "\n",
       "    .dataframe tbody tr th {\n",
       "        vertical-align: top;\n",
       "    }\n",
       "\n",
       "    .dataframe thead th {\n",
       "        text-align: right;\n",
       "    }\n",
       "</style>\n",
       "<table border=\"1\" class=\"dataframe\">\n",
       "  <thead>\n",
       "    <tr style=\"text-align: right;\">\n",
       "      <th></th>\n",
       "      <th>age</th>\n",
       "      <th>job</th>\n",
       "      <th>marital</th>\n",
       "      <th>education</th>\n",
       "      <th>default</th>\n",
       "      <th>housing</th>\n",
       "      <th>loan</th>\n",
       "      <th>contact</th>\n",
       "      <th>month</th>\n",
       "      <th>day_of_week</th>\n",
       "      <th>...</th>\n",
       "      <th>campaign</th>\n",
       "      <th>pdays</th>\n",
       "      <th>previous</th>\n",
       "      <th>poutcome</th>\n",
       "      <th>emp.var.rate</th>\n",
       "      <th>cons.price.idx</th>\n",
       "      <th>cons.conf.idx</th>\n",
       "      <th>euribor3m</th>\n",
       "      <th>nr.employed</th>\n",
       "      <th>y</th>\n",
       "    </tr>\n",
       "  </thead>\n",
       "  <tbody>\n",
       "    <tr>\n",
       "      <th>count</th>\n",
       "      <td>45307</td>\n",
       "      <td>45307</td>\n",
       "      <td>45307</td>\n",
       "      <td>45307</td>\n",
       "      <td>45307</td>\n",
       "      <td>45307</td>\n",
       "      <td>45307</td>\n",
       "      <td>45307</td>\n",
       "      <td>45307</td>\n",
       "      <td>45307</td>\n",
       "      <td>...</td>\n",
       "      <td>45307</td>\n",
       "      <td>45307</td>\n",
       "      <td>45307</td>\n",
       "      <td>45307</td>\n",
       "      <td>45307</td>\n",
       "      <td>45307</td>\n",
       "      <td>45307</td>\n",
       "      <td>45307</td>\n",
       "      <td>45307</td>\n",
       "      <td>45307</td>\n",
       "    </tr>\n",
       "    <tr>\n",
       "      <th>unique</th>\n",
       "      <td>78</td>\n",
       "      <td>12</td>\n",
       "      <td>4</td>\n",
       "      <td>6</td>\n",
       "      <td>3</td>\n",
       "      <td>3</td>\n",
       "      <td>3</td>\n",
       "      <td>2</td>\n",
       "      <td>10</td>\n",
       "      <td>5</td>\n",
       "      <td>...</td>\n",
       "      <td>42</td>\n",
       "      <td>27</td>\n",
       "      <td>8</td>\n",
       "      <td>3</td>\n",
       "      <td>10</td>\n",
       "      <td>26</td>\n",
       "      <td>26</td>\n",
       "      <td>316</td>\n",
       "      <td>11</td>\n",
       "      <td>2</td>\n",
       "    </tr>\n",
       "    <tr>\n",
       "      <th>top</th>\n",
       "      <td>31</td>\n",
       "      <td>admin.</td>\n",
       "      <td>married</td>\n",
       "      <td>basic</td>\n",
       "      <td>no</td>\n",
       "      <td>yes</td>\n",
       "      <td>no</td>\n",
       "      <td>cellular</td>\n",
       "      <td>may</td>\n",
       "      <td>thu</td>\n",
       "      <td>...</td>\n",
       "      <td>1</td>\n",
       "      <td>999</td>\n",
       "      <td>0</td>\n",
       "      <td>nonexistent</td>\n",
       "      <td>1.4</td>\n",
       "      <td>93.994</td>\n",
       "      <td>-36.4</td>\n",
       "      <td>4.857</td>\n",
       "      <td>5228.1</td>\n",
       "      <td>no</td>\n",
       "    </tr>\n",
       "    <tr>\n",
       "      <th>freq</th>\n",
       "      <td>2138</td>\n",
       "      <td>11434</td>\n",
       "      <td>27437</td>\n",
       "      <td>13744</td>\n",
       "      <td>35903</td>\n",
       "      <td>23751</td>\n",
       "      <td>37299</td>\n",
       "      <td>28796</td>\n",
       "      <td>15147</td>\n",
       "      <td>9483</td>\n",
       "      <td>...</td>\n",
       "      <td>19406</td>\n",
       "      <td>43632</td>\n",
       "      <td>39086</td>\n",
       "      <td>39086</td>\n",
       "      <td>17860</td>\n",
       "      <td>8521</td>\n",
       "      <td>8521</td>\n",
       "      <td>3142</td>\n",
       "      <td>17860</td>\n",
       "      <td>40216</td>\n",
       "    </tr>\n",
       "  </tbody>\n",
       "</table>\n",
       "<p>4 rows × 21 columns</p>\n",
       "</div>"
      ],
      "text/plain": [
       "          age     job  marital education default housing   loan   contact  \\\n",
       "count   45307   45307    45307     45307   45307   45307  45307     45307   \n",
       "unique     78      12        4         6       3       3      3         2   \n",
       "top        31  admin.  married     basic      no     yes     no  cellular   \n",
       "freq     2138   11434    27437     13744   35903   23751  37299     28796   \n",
       "\n",
       "        month day_of_week  ... campaign  pdays previous     poutcome  \\\n",
       "count   45307       45307  ...    45307  45307    45307        45307   \n",
       "unique     10           5  ...       42     27        8            3   \n",
       "top       may         thu  ...        1    999        0  nonexistent   \n",
       "freq    15147        9483  ...    19406  43632    39086        39086   \n",
       "\n",
       "       emp.var.rate cons.price.idx cons.conf.idx euribor3m nr.employed      y  \n",
       "count         45307          45307         45307     45307       45307  45307  \n",
       "unique           10             26            26       316          11      2  \n",
       "top             1.4         93.994         -36.4     4.857      5228.1     no  \n",
       "freq          17860           8521          8521      3142       17860  40216  \n",
       "\n",
       "[4 rows x 21 columns]"
      ]
     },
     "execution_count": 10,
     "metadata": {},
     "output_type": "execute_result"
    }
   ],
   "source": [
    "data.describe()"
   ]
  },
  {
   "cell_type": "code",
   "execution_count": 11,
   "id": "7feb6078",
   "metadata": {},
   "outputs": [
    {
     "name": "stdout",
     "output_type": "stream",
     "text": [
      "<class 'pandas.core.frame.DataFrame'>\n",
      "Int64Index: 45307 entries, 0 to 4118\n",
      "Data columns (total 21 columns):\n",
      " #   Column          Non-Null Count  Dtype \n",
      "---  ------          --------------  ----- \n",
      " 0   age             45307 non-null  object\n",
      " 1   job             45307 non-null  object\n",
      " 2   marital         45307 non-null  object\n",
      " 3   education       45307 non-null  object\n",
      " 4   default         45307 non-null  object\n",
      " 5   housing         45307 non-null  object\n",
      " 6   loan            45307 non-null  object\n",
      " 7   contact         45307 non-null  object\n",
      " 8   month           45307 non-null  object\n",
      " 9   day_of_week     45307 non-null  object\n",
      " 10  duration        45307 non-null  object\n",
      " 11  campaign        45307 non-null  object\n",
      " 12  pdays           45307 non-null  object\n",
      " 13  previous        45307 non-null  object\n",
      " 14  poutcome        45307 non-null  object\n",
      " 15  emp.var.rate    45307 non-null  object\n",
      " 16  cons.price.idx  45307 non-null  object\n",
      " 17  cons.conf.idx   45307 non-null  object\n",
      " 18  euribor3m       45307 non-null  object\n",
      " 19  nr.employed     45307 non-null  object\n",
      " 20  y               45307 non-null  object\n",
      "dtypes: object(21)\n",
      "memory usage: 7.6+ MB\n"
     ]
    }
   ],
   "source": [
    "data.info()"
   ]
  },
  {
   "cell_type": "code",
   "execution_count": 12,
   "id": "ee245c76",
   "metadata": {},
   "outputs": [
    {
     "data": {
      "text/plain": [
       "age               0\n",
       "job               0\n",
       "marital           0\n",
       "education         0\n",
       "default           0\n",
       "housing           0\n",
       "loan              0\n",
       "contact           0\n",
       "month             0\n",
       "day_of_week       0\n",
       "duration          0\n",
       "campaign          0\n",
       "pdays             0\n",
       "previous          0\n",
       "poutcome          0\n",
       "emp.var.rate      0\n",
       "cons.price.idx    0\n",
       "cons.conf.idx     0\n",
       "euribor3m         0\n",
       "nr.employed       0\n",
       "y                 0\n",
       "dtype: int64"
      ]
     },
     "execution_count": 12,
     "metadata": {},
     "output_type": "execute_result"
    }
   ],
   "source": [
    "data.isnull().sum()"
   ]
  },
  {
   "cell_type": "markdown",
   "id": "3127e060",
   "metadata": {},
   "source": [
    "# Data Visualization"
   ]
  },
  {
   "cell_type": "code",
   "execution_count": 13,
   "id": "34f46e1d",
   "metadata": {
    "scrolled": true
   },
   "outputs": [
    {
     "data": {
      "text/plain": [
       "<AxesSubplot:xlabel='count', ylabel='job'>"
      ]
     },
     "execution_count": 13,
     "metadata": {},
     "output_type": "execute_result"
    },
    {
     "data": {
      "image/png": "[encoded data removed]",
      "text/plain": [
       "<Figure size 432x288 with 1 Axes>"
      ]
     },
     "metadata": {},
     "output_type": "display_data"
    }
   ],
   "source": [
    "sns.set(style=\"ticks\", color_codes=True)\n",
    "sns.countplot(y='job', data=data)"
   ]
  },
  {
   "cell_type": "code",
   "execution_count": 14,
   "id": "08a7377a",
   "metadata": {},
   "outputs": [],
   "source": [
    "data = data[data.job != 'unknown']"
   ]
  },
  {
   "cell_type": "code",
   "execution_count": 15,
   "id": "12338eeb",
   "metadata": {},
   "outputs": [
    {
     "data": {
      "text/plain": [
       "<AxesSubplot:xlabel='count', ylabel='marital'>"
      ]
     },
     "execution_count": 15,
     "metadata": {},
     "output_type": "execute_result"
    },
    {
     "data": {
      "image/png": "[encoded data removed]",
      "text/plain": [
       "<Figure size 432x288 with 1 Axes>"
      ]
     },
     "metadata": {},
     "output_type": "display_data"
    }
   ],
   "source": [
    "sns.countplot(y='marital', data=data)"
   ]
  },
  {
   "cell_type": "code",
   "execution_count": 16,
   "id": "dd0e7c04",
   "metadata": {},
   "outputs": [
    {
     "data": {
      "text/plain": [
       "married     27175\n",
       "single      12638\n",
       "divorced     5043\n",
       "unknown        82\n",
       "Name: marital, dtype: int64"
      ]
     },
     "execution_count": 16,
     "metadata": {},
     "output_type": "execute_result"
    }
   ],
   "source": [
    "data.marital.value_counts()"
   ]
  },
  {
   "cell_type": "code",
   "execution_count": 17,
   "id": "0e50c391",
   "metadata": {},
   "outputs": [],
   "source": [
    "data = data[data.marital != 'unknown']\n",
    "data = data[data.loan != 'unknown']"
   ]
  },
  {
   "cell_type": "code",
   "execution_count": 18,
   "id": "210b7d1c",
   "metadata": {},
   "outputs": [
    {
     "data": {
      "text/plain": [
       "<AxesSubplot:xlabel='count', ylabel='education'>"
      ]
     },
     "execution_count": 18,
     "metadata": {},
     "output_type": "execute_result"
    },
    {
     "data": {
      "image/png": "[encoded data removed]",
      "text/plain": [
       "<Figure size 432x288 with 1 Axes>"
      ]
     },
     "metadata": {},
     "output_type": "display_data"
    }
   ],
   "source": [
    "sns.countplot(y='education', data=data)"
   ]
  },
  {
   "cell_type": "code",
   "execution_count": 81,
   "id": "0a1b97b1",
   "metadata": {},
   "outputs": [],
   "source": [
    "data = data[data.education != 'illiterate']"
   ]
  },
  {
   "cell_type": "code",
   "execution_count": 19,
   "id": "bf824028",
   "metadata": {},
   "outputs": [
    {
     "data": {
      "text/plain": [
       "<AxesSubplot:xlabel='count', ylabel='campaign'>"
      ]
     },
     "execution_count": 19,
     "metadata": {},
     "output_type": "execute_result"
    },
    {
     "data": {
      "image/png": "[encoded data removed]",
      "text/plain": [
       "<Figure size 432x288 with 1 Axes>"
      ]
     },
     "metadata": {},
     "output_type": "display_data"
    }
   ],
   "source": [
    "sns.countplot(y='campaign', data=data)"
   ]
  },
  {
   "cell_type": "code",
   "execution_count": 20,
   "id": "0cd75a41",
   "metadata": {},
   "outputs": [
    {
     "data": {
      "text/plain": [
       "<AxesSubplot:xlabel='count', ylabel='y'>"
      ]
     },
     "execution_count": 20,
     "metadata": {},
     "output_type": "execute_result"
    },
    {
     "data": {
      "image/png": "[encoded data removed]",
      "text/plain": [
       "<Figure size 432x288 with 1 Axes>"
      ]
     },
     "metadata": {},
     "output_type": "display_data"
    }
   ],
   "source": [
    "sns.countplot(y='y', data=data)"
   ]
  },
  {
   "cell_type": "code",
   "execution_count": 21,
   "id": "c2f567a1",
   "metadata": {},
   "outputs": [],
   "source": [
    "data = categorize(data)\n",
    "data = data._convert(numeric=True)"
   ]
  },
  {
   "cell_type": "markdown",
   "id": "d765801b",
   "metadata": {},
   "source": [
    "# Outlier Checking"
   ]
  },
  {
   "cell_type": "code",
   "execution_count": 22,
   "id": "8f53d808",
   "metadata": {},
   "outputs": [
    {
     "data": {
      "text/plain": [
       "<AxesSubplot:xlabel='y', ylabel='duration'>"
      ]
     },
     "execution_count": 22,
     "metadata": {},
     "output_type": "execute_result"
    },
    {
     "data": {
      "image/png": "[encoded data removed]",
      "text/plain": [
       "<Figure size 432x288 with 1 Axes>"
      ]
     },
     "metadata": {},
     "output_type": "display_data"
    }
   ],
   "source": [
    "sns.boxplot(x='y', y='duration', data=data)"
   ]
  },
  {
   "cell_type": "code",
   "execution_count": 23,
   "id": "cf0153eb",
   "metadata": {
    "scrolled": true
   },
   "outputs": [
    {
     "data": {
      "text/plain": [
       "<AxesSubplot:xlabel='y', ylabel='education'>"
      ]
     },
     "execution_count": 23,
     "metadata": {},
     "output_type": "execute_result"
    },
    {
     "data": {
      "image/png": "[encoded data removed]",
      "text/plain": [
       "<Figure size 432x288 with 1 Axes>"
      ]
     },
     "metadata": {},
     "output_type": "display_data"
    }
   ],
   "source": [
    "sns.boxplot(x='y', y='education', data=data)"
   ]
  },
  {
   "cell_type": "code",
   "execution_count": 24,
   "id": "1e69ed37",
   "metadata": {},
   "outputs": [
    {
     "data": {
      "text/plain": [
       "<AxesSubplot:xlabel='y', ylabel='education'>"
      ]
     },
     "execution_count": 24,
     "metadata": {},
     "output_type": "execute_result"
    },
    {
     "data": {
      "image/png": "[encoded data removed]",
      "text/plain": [
       "<Figure size 432x288 with 1 Axes>"
      ]
     },
     "metadata": {},
     "output_type": "display_data"
    }
   ],
   "source": [
    "sns.boxplot(x='y', y='education', data=data)"
   ]
  },
  {
   "cell_type": "code",
   "execution_count": 25,
   "id": "f5e3a3ff",
   "metadata": {},
   "outputs": [
    {
     "data": {
      "text/plain": [
       "<AxesSubplot:xlabel='y', ylabel='housing'>"
      ]
     },
     "execution_count": 25,
     "metadata": {},
     "output_type": "execute_result"
    },
    {
     "data": {
      "image/png": "[encoded data removed]",
      "text/plain": [
       "<Figure size 432x288 with 1 Axes>"
      ]
     },
     "metadata": {},
     "output_type": "display_data"
    }
   ],
   "source": [
    "sns.boxplot(x='y', y='housing', data=data)"
   ]
  },
  {
   "cell_type": "code",
   "execution_count": 26,
   "id": "3962a8b8",
   "metadata": {},
   "outputs": [
    {
     "name": "stderr",
     "output_type": "stream",
     "text": [
      "C:\\Users\\hp\\anaconda3\\lib\\site-packages\\seaborn\\_decorators.py:36: FutureWarning: Pass the following variables as keyword args: x, y. From version 0.12, the only valid positional argument will be `data`, and passing other arguments without an explicit keyword will result in an error or misinterpretation.\n",
      "  warnings.warn(\n"
     ]
    },
    {
     "data": {
      "text/plain": [
       "<AxesSubplot:xlabel='y', ylabel='age'>"
      ]
     },
     "execution_count": 26,
     "metadata": {},
     "output_type": "execute_result"
    },
    {
     "data": {
      "image/png": "[encoded data removed]",
      "text/plain": [
       "<Figure size 432x288 with 1 Axes>"
      ]
     },
     "metadata": {},
     "output_type": "display_data"
    }
   ],
   "source": [
    "sns.boxplot(data['y'],data['age'])"
   ]
  },
  {
   "cell_type": "code",
   "execution_count": 27,
   "id": "5ad997f9",
   "metadata": {},
   "outputs": [
    {
     "name": "stderr",
     "output_type": "stream",
     "text": [
      "C:\\Users\\hp\\anaconda3\\lib\\site-packages\\seaborn\\_decorators.py:36: FutureWarning: Pass the following variables as keyword args: x, y. From version 0.12, the only valid positional argument will be `data`, and passing other arguments without an explicit keyword will result in an error or misinterpretation.\n",
      "  warnings.warn(\n"
     ]
    },
    {
     "data": {
      "text/plain": [
       "<AxesSubplot:xlabel='y', ylabel='job'>"
      ]
     },
     "execution_count": 27,
     "metadata": {},
     "output_type": "execute_result"
    },
    {
     "data": {
      "image/png": "[encoded data removed]",
      "text/plain": [
       "<Figure size 432x288 with 1 Axes>"
      ]
     },
     "metadata": {},
     "output_type": "display_data"
    }
   ],
   "source": [
    "sns.boxplot(data['y'],data['job'])"
   ]
  },
  {
   "cell_type": "code",
   "execution_count": 28,
   "id": "3b3a5b97",
   "metadata": {},
   "outputs": [
    {
     "name": "stderr",
     "output_type": "stream",
     "text": [
      "C:\\Users\\hp\\anaconda3\\lib\\site-packages\\seaborn\\_decorators.py:36: FutureWarning: Pass the following variables as keyword args: x, y. From version 0.12, the only valid positional argument will be `data`, and passing other arguments without an explicit keyword will result in an error or misinterpretation.\n",
      "  warnings.warn(\n"
     ]
    },
    {
     "data": {
      "text/plain": [
       "<AxesSubplot:xlabel='y', ylabel='campaign'>"
      ]
     },
     "execution_count": 28,
     "metadata": {},
     "output_type": "execute_result"
    },
    {
     "data": {
      "image/png": "[encoded data removed]",
      "text/plain": [
       "<Figure size 432x288 with 1 Axes>"
      ]
     },
     "metadata": {},
     "output_type": "display_data"
    }
   ],
   "source": [
    "sns.boxplot(data['y'],data['campaign'])"
   ]
  },
  {
   "cell_type": "markdown",
   "id": "979a2225",
   "metadata": {},
   "source": [
    "# Removing outliers"
   ]
  },
  {
   "cell_type": "code",
   "execution_count": 29,
   "id": "6a1e2349",
   "metadata": {},
   "outputs": [],
   "source": [
    "def remove_outliers(df, column , minimum, maximum):\n",
    "    col_values = df[column].values\n",
    "    df[column] = np.where(np.logical_or(col_values<minimum, col_values>maximum), col_values.mean(), col_values)\n",
    "    return df"
   ]
  },
  {
   "cell_type": "code",
   "execution_count": 30,
   "id": "d14c5236",
   "metadata": {},
   "outputs": [],
   "source": [
    "min_val = data[\"duration\"].min()\n",
    "max_val = 1500\n",
    "data = remove_outliers(df=data, column='duration' , minimum=min_val, maximum=max_val)\n",
    "\n",
    "min_val = data[\"age\"].min()\n",
    "max_val = 80\n",
    "data = remove_outliers(df=data, column='age' , minimum=min_val, maximum=max_val)\n",
    "\n",
    "min_val = data[\"campaign\"].min()\n",
    "max_val = 6\n",
    "data = remove_outliers(df=data, column='campaign' , minimum=min_val, maximum=max_val)"
   ]
  },
  {
   "cell_type": "markdown",
   "id": "30e06816",
   "metadata": {},
   "source": [
    "# Dropping less meaningful columns"
   ]
  },
  {
   "cell_type": "code",
   "execution_count": 31,
   "id": "ec2c8369",
   "metadata": {},
   "outputs": [
    {
     "data": {
      "text/plain": [
       "<AxesSubplot:xlabel='education', ylabel='count'>"
      ]
     },
     "execution_count": 31,
     "metadata": {},
     "output_type": "execute_result"
    },
    {
     "data": {
      "image/png": "[encoded data removed]",
      "text/plain": [
       "<Figure size 432x288 with 1 Axes>"
      ]
     },
     "metadata": {},
     "output_type": "display_data"
    }
   ],
   "source": [
    "sns.countplot(x='education',hue='y',data=data)"
   ]
  },
  {
   "cell_type": "code",
   "execution_count": 32,
   "id": "84d40c8f",
   "metadata": {},
   "outputs": [
    {
     "data": {
      "text/plain": [
       "<AxesSubplot:xlabel='default', ylabel='count'>"
      ]
     },
     "execution_count": 32,
     "metadata": {},
     "output_type": "execute_result"
    },
    {
     "data": {
      "image/png": "[encoded data removed]",
      "text/plain": [
       "<Figure size 432x288 with 1 Axes>"
      ]
     },
     "metadata": {},
     "output_type": "display_data"
    }
   ],
   "source": [
    "sns.countplot(x='default',hue='y',data=data)"
   ]
  },
  {
   "cell_type": "markdown",
   "id": "b0546ed0",
   "metadata": {},
   "source": [
    "It is skewed to 0. So We can drop this"
   ]
  },
  {
   "cell_type": "code",
   "execution_count": 33,
   "id": "3733a787",
   "metadata": {},
   "outputs": [],
   "source": [
    "data = data.drop('default',axis=1)"
   ]
  },
  {
   "cell_type": "code",
   "execution_count": 34,
   "id": "946f6301",
   "metadata": {},
   "outputs": [
    {
     "data": {
      "text/plain": [
       "<AxesSubplot:xlabel='poutcome', ylabel='count'>"
      ]
     },
     "execution_count": 34,
     "metadata": {},
     "output_type": "execute_result"
    },
    {
     "data": {
      "image/png": "[encoded data removed]",
      "text/plain": [
       "<Figure size 432x288 with 1 Axes>"
      ]
     },
     "metadata": {},
     "output_type": "display_data"
    }
   ],
   "source": [
    "sns.countplot(x='poutcome',hue='y',data=data)"
   ]
  },
  {
   "cell_type": "markdown",
   "id": "6f05e1f5",
   "metadata": {},
   "source": [
    "So many non existent values. We can drop this"
   ]
  },
  {
   "cell_type": "code",
   "execution_count": 35,
   "id": "ec73d00f",
   "metadata": {},
   "outputs": [],
   "source": [
    "data = data.drop('poutcome',axis=1)"
   ]
  },
  {
   "cell_type": "code",
   "execution_count": 36,
   "id": "a09959b8",
   "metadata": {},
   "outputs": [
    {
     "data": {
      "text/plain": [
       "<AxesSubplot:xlabel='loan', ylabel='count'>"
      ]
     },
     "execution_count": 36,
     "metadata": {},
     "output_type": "execute_result"
    },
    {
     "data": {
      "image/png": "[encoded data removed]",
      "text/plain": [
       "<Figure size 432x288 with 1 Axes>"
      ]
     },
     "metadata": {},
     "output_type": "display_data"
    }
   ],
   "source": [
    "sns.countplot(x='loan',hue='y',data=data)"
   ]
  },
  {
   "cell_type": "code",
   "execution_count": 37,
   "id": "df8c20dd",
   "metadata": {},
   "outputs": [
    {
     "data": {
      "text/plain": [
       "<AxesSubplot:xlabel='contact', ylabel='count'>"
      ]
     },
     "execution_count": 37,
     "metadata": {},
     "output_type": "execute_result"
    },
    {
     "data": {
      "image/png": "[encoded data removed]",
      "text/plain": [
       "<Figure size 432x288 with 1 Axes>"
      ]
     },
     "metadata": {},
     "output_type": "display_data"
    }
   ],
   "source": [
    "sns.countplot(x='contact',hue='y',data=data)"
   ]
  },
  {
   "cell_type": "code",
   "execution_count": 38,
   "id": "ab008eb5",
   "metadata": {},
   "outputs": [],
   "source": [
    "data = data.drop('contact',axis=1)"
   ]
  },
  {
   "cell_type": "code",
   "execution_count": 39,
   "id": "bcc35157",
   "metadata": {},
   "outputs": [],
   "source": [
    "data = data.drop(['emp.var.rate','cons.price.idx','cons.conf.idx','euribor3m','nr.employed'],axis=1)"
   ]
  },
  {
   "cell_type": "code",
   "execution_count": 40,
   "id": "f8387a6b",
   "metadata": {},
   "outputs": [
    {
     "data": {
      "text/html": [
       "<div>\n",
       "<style scoped>\n",
       "    .dataframe tbody tr th:only-of-type {\n",
       "        vertical-align: middle;\n",
       "    }\n",
       "\n",
       "    .dataframe tbody tr th {\n",
       "        vertical-align: top;\n",
       "    }\n",
       "\n",
       "    .dataframe thead th {\n",
       "        text-align: right;\n",
       "    }\n",
       "</style>\n",
       "<table border=\"1\" class=\"dataframe\">\n",
       "  <thead>\n",
       "    <tr style=\"text-align: right;\">\n",
       "      <th></th>\n",
       "      <th>age</th>\n",
       "      <th>job</th>\n",
       "      <th>marital</th>\n",
       "      <th>education</th>\n",
       "      <th>housing</th>\n",
       "      <th>loan</th>\n",
       "      <th>month</th>\n",
       "      <th>day_of_week</th>\n",
       "      <th>duration</th>\n",
       "      <th>campaign</th>\n",
       "      <th>pdays</th>\n",
       "      <th>previous</th>\n",
       "      <th>y</th>\n",
       "    </tr>\n",
       "  </thead>\n",
       "  <tbody>\n",
       "    <tr>\n",
       "      <th>0</th>\n",
       "      <td>56.0</td>\n",
       "      <td>3</td>\n",
       "      <td>1</td>\n",
       "      <td>0</td>\n",
       "      <td>0</td>\n",
       "      <td>0</td>\n",
       "      <td>6</td>\n",
       "      <td>1</td>\n",
       "      <td>261.0</td>\n",
       "      <td>1.0</td>\n",
       "      <td>999</td>\n",
       "      <td>0</td>\n",
       "      <td>0</td>\n",
       "    </tr>\n",
       "    <tr>\n",
       "      <th>1</th>\n",
       "      <td>57.0</td>\n",
       "      <td>7</td>\n",
       "      <td>1</td>\n",
       "      <td>1</td>\n",
       "      <td>0</td>\n",
       "      <td>0</td>\n",
       "      <td>6</td>\n",
       "      <td>1</td>\n",
       "      <td>149.0</td>\n",
       "      <td>1.0</td>\n",
       "      <td>999</td>\n",
       "      <td>0</td>\n",
       "      <td>0</td>\n",
       "    </tr>\n",
       "    <tr>\n",
       "      <th>2</th>\n",
       "      <td>37.0</td>\n",
       "      <td>7</td>\n",
       "      <td>1</td>\n",
       "      <td>1</td>\n",
       "      <td>1</td>\n",
       "      <td>0</td>\n",
       "      <td>6</td>\n",
       "      <td>1</td>\n",
       "      <td>226.0</td>\n",
       "      <td>1.0</td>\n",
       "      <td>999</td>\n",
       "      <td>0</td>\n",
       "      <td>0</td>\n",
       "    </tr>\n",
       "    <tr>\n",
       "      <th>3</th>\n",
       "      <td>40.0</td>\n",
       "      <td>0</td>\n",
       "      <td>1</td>\n",
       "      <td>0</td>\n",
       "      <td>0</td>\n",
       "      <td>0</td>\n",
       "      <td>6</td>\n",
       "      <td>1</td>\n",
       "      <td>151.0</td>\n",
       "      <td>1.0</td>\n",
       "      <td>999</td>\n",
       "      <td>0</td>\n",
       "      <td>0</td>\n",
       "    </tr>\n",
       "    <tr>\n",
       "      <th>4</th>\n",
       "      <td>56.0</td>\n",
       "      <td>7</td>\n",
       "      <td>1</td>\n",
       "      <td>1</td>\n",
       "      <td>0</td>\n",
       "      <td>1</td>\n",
       "      <td>6</td>\n",
       "      <td>1</td>\n",
       "      <td>307.0</td>\n",
       "      <td>1.0</td>\n",
       "      <td>999</td>\n",
       "      <td>0</td>\n",
       "      <td>0</td>\n",
       "    </tr>\n",
       "  </tbody>\n",
       "</table>\n",
       "</div>"
      ],
      "text/plain": [
       "    age  job  marital  education  housing  loan  month  day_of_week  duration  \\\n",
       "0  56.0    3        1          0        0     0      6            1     261.0   \n",
       "1  57.0    7        1          1        0     0      6            1     149.0   \n",
       "2  37.0    7        1          1        1     0      6            1     226.0   \n",
       "3  40.0    0        1          0        0     0      6            1     151.0   \n",
       "4  56.0    7        1          1        0     1      6            1     307.0   \n",
       "\n",
       "   campaign  pdays  previous  y  \n",
       "0       1.0    999         0  0  \n",
       "1       1.0    999         0  0  \n",
       "2       1.0    999         0  0  \n",
       "3       1.0    999         0  0  \n",
       "4       1.0    999         0  0  "
      ]
     },
     "execution_count": 40,
     "metadata": {},
     "output_type": "execute_result"
    }
   ],
   "source": [
    "data.head()"
   ]
  },
  {
   "cell_type": "code",
   "execution_count": 41,
   "id": "78cd2f91",
   "metadata": {
    "scrolled": true
   },
   "outputs": [
    {
     "name": "stdout",
     "output_type": "stream",
     "text": [
      "<class 'pandas.core.frame.DataFrame'>\n",
      "Int64Index: 43767 entries, 0 to 4118\n",
      "Data columns (total 13 columns):\n",
      " #   Column       Non-Null Count  Dtype  \n",
      "---  ------       --------------  -----  \n",
      " 0   age          43767 non-null  float64\n",
      " 1   job          43767 non-null  int32  \n",
      " 2   marital      43767 non-null  int32  \n",
      " 3   education    43767 non-null  int32  \n",
      " 4   housing      43767 non-null  int32  \n",
      " 5   loan         43767 non-null  int32  \n",
      " 6   month        43767 non-null  int32  \n",
      " 7   day_of_week  43767 non-null  int32  \n",
      " 8   duration     43767 non-null  float64\n",
      " 9   campaign     43767 non-null  float64\n",
      " 10  pdays        43767 non-null  int64  \n",
      " 11  previous     43767 non-null  int64  \n",
      " 12  y            43767 non-null  int32  \n",
      "dtypes: float64(3), int32(8), int64(2)\n",
      "memory usage: 3.3 MB\n"
     ]
    }
   ],
   "source": [
    "data.info()"
   ]
  },
  {
   "cell_type": "markdown",
   "id": "73c144da",
   "metadata": {},
   "source": [
    "# Correlation matrix of numerical features"
   ]
  },
  {
   "cell_type": "code",
   "execution_count": 42,
   "id": "e4a020a3",
   "metadata": {},
   "outputs": [
    {
     "data": {
      "text/html": [
       "<div>\n",
       "<style scoped>\n",
       "    .dataframe tbody tr th:only-of-type {\n",
       "        vertical-align: middle;\n",
       "    }\n",
       "\n",
       "    .dataframe tbody tr th {\n",
       "        vertical-align: top;\n",
       "    }\n",
       "\n",
       "    .dataframe thead th {\n",
       "        text-align: right;\n",
       "    }\n",
       "</style>\n",
       "<table border=\"1\" class=\"dataframe\">\n",
       "  <thead>\n",
       "    <tr style=\"text-align: right;\">\n",
       "      <th></th>\n",
       "      <th>age</th>\n",
       "      <th>job</th>\n",
       "      <th>marital</th>\n",
       "      <th>education</th>\n",
       "      <th>housing</th>\n",
       "      <th>loan</th>\n",
       "      <th>month</th>\n",
       "      <th>day_of_week</th>\n",
       "      <th>duration</th>\n",
       "      <th>campaign</th>\n",
       "      <th>pdays</th>\n",
       "      <th>previous</th>\n",
       "      <th>y</th>\n",
       "    </tr>\n",
       "  </thead>\n",
       "  <tbody>\n",
       "    <tr>\n",
       "      <th>age</th>\n",
       "      <td>1.000000</td>\n",
       "      <td>-0.010307</td>\n",
       "      <td>-0.395168</td>\n",
       "      <td>-0.057310</td>\n",
       "      <td>-0.004140</td>\n",
       "      <td>-0.007438</td>\n",
       "      <td>-0.030256</td>\n",
       "      <td>-0.023745</td>\n",
       "      <td>0.003201</td>\n",
       "      <td>0.001104</td>\n",
       "      <td>-0.022426</td>\n",
       "      <td>0.014722</td>\n",
       "      <td>0.018045</td>\n",
       "    </tr>\n",
       "    <tr>\n",
       "      <th>job</th>\n",
       "      <td>-0.010307</td>\n",
       "      <td>1.000000</td>\n",
       "      <td>0.024212</td>\n",
       "      <td>0.113924</td>\n",
       "      <td>0.006973</td>\n",
       "      <td>-0.011273</td>\n",
       "      <td>-0.033073</td>\n",
       "      <td>-0.004001</td>\n",
       "      <td>-0.004288</td>\n",
       "      <td>-0.007703</td>\n",
       "      <td>-0.025568</td>\n",
       "      <td>0.020858</td>\n",
       "      <td>0.025570</td>\n",
       "    </tr>\n",
       "    <tr>\n",
       "      <th>marital</th>\n",
       "      <td>-0.395168</td>\n",
       "      <td>0.024212</td>\n",
       "      <td>1.000000</td>\n",
       "      <td>0.095408</td>\n",
       "      <td>0.010688</td>\n",
       "      <td>0.004776</td>\n",
       "      <td>-0.012736</td>\n",
       "      <td>0.002626</td>\n",
       "      <td>0.006407</td>\n",
       "      <td>-0.012412</td>\n",
       "      <td>-0.036341</td>\n",
       "      <td>0.037611</td>\n",
       "      <td>0.044798</td>\n",
       "    </tr>\n",
       "    <tr>\n",
       "      <th>education</th>\n",
       "      <td>-0.057310</td>\n",
       "      <td>0.113924</td>\n",
       "      <td>0.095408</td>\n",
       "      <td>1.000000</td>\n",
       "      <td>0.015425</td>\n",
       "      <td>0.007502</td>\n",
       "      <td>-0.091713</td>\n",
       "      <td>-0.017515</td>\n",
       "      <td>-0.013205</td>\n",
       "      <td>-0.002690</td>\n",
       "      <td>-0.051102</td>\n",
       "      <td>0.037886</td>\n",
       "      <td>0.063124</td>\n",
       "    </tr>\n",
       "    <tr>\n",
       "      <th>housing</th>\n",
       "      <td>-0.004140</td>\n",
       "      <td>0.006973</td>\n",
       "      <td>0.010688</td>\n",
       "      <td>0.015425</td>\n",
       "      <td>1.000000</td>\n",
       "      <td>0.048104</td>\n",
       "      <td>-0.019216</td>\n",
       "      <td>0.004176</td>\n",
       "      <td>-0.010426</td>\n",
       "      <td>-0.008926</td>\n",
       "      <td>-0.012364</td>\n",
       "      <td>0.022045</td>\n",
       "      <td>0.010505</td>\n",
       "    </tr>\n",
       "    <tr>\n",
       "      <th>loan</th>\n",
       "      <td>-0.007438</td>\n",
       "      <td>-0.011273</td>\n",
       "      <td>0.004776</td>\n",
       "      <td>0.007502</td>\n",
       "      <td>0.048104</td>\n",
       "      <td>1.000000</td>\n",
       "      <td>-0.008897</td>\n",
       "      <td>-0.008593</td>\n",
       "      <td>-0.005995</td>\n",
       "      <td>0.012669</td>\n",
       "      <td>0.000174</td>\n",
       "      <td>-0.003128</td>\n",
       "      <td>-0.004664</td>\n",
       "    </tr>\n",
       "    <tr>\n",
       "      <th>month</th>\n",
       "      <td>-0.030256</td>\n",
       "      <td>-0.033073</td>\n",
       "      <td>-0.012736</td>\n",
       "      <td>-0.091713</td>\n",
       "      <td>-0.019216</td>\n",
       "      <td>-0.008897</td>\n",
       "      <td>1.000000</td>\n",
       "      <td>0.027423</td>\n",
       "      <td>0.002469</td>\n",
       "      <td>-0.047809</td>\n",
       "      <td>-0.046070</td>\n",
       "      <td>0.100943</td>\n",
       "      <td>-0.004197</td>\n",
       "    </tr>\n",
       "    <tr>\n",
       "      <th>day_of_week</th>\n",
       "      <td>-0.023745</td>\n",
       "      <td>-0.004001</td>\n",
       "      <td>0.002626</td>\n",
       "      <td>-0.017515</td>\n",
       "      <td>0.004176</td>\n",
       "      <td>-0.008593</td>\n",
       "      <td>0.027423</td>\n",
       "      <td>1.000000</td>\n",
       "      <td>0.023641</td>\n",
       "      <td>-0.052468</td>\n",
       "      <td>-0.007223</td>\n",
       "      <td>-0.004653</td>\n",
       "      <td>0.013375</td>\n",
       "    </tr>\n",
       "    <tr>\n",
       "      <th>duration</th>\n",
       "      <td>0.003201</td>\n",
       "      <td>-0.004288</td>\n",
       "      <td>0.006407</td>\n",
       "      <td>-0.013205</td>\n",
       "      <td>-0.010426</td>\n",
       "      <td>-0.005995</td>\n",
       "      <td>0.002469</td>\n",
       "      <td>0.023641</td>\n",
       "      <td>1.000000</td>\n",
       "      <td>-0.024315</td>\n",
       "      <td>-0.053277</td>\n",
       "      <td>0.024751</td>\n",
       "      <td>0.407226</td>\n",
       "    </tr>\n",
       "    <tr>\n",
       "      <th>campaign</th>\n",
       "      <td>0.001104</td>\n",
       "      <td>-0.007703</td>\n",
       "      <td>-0.012412</td>\n",
       "      <td>-0.002690</td>\n",
       "      <td>-0.008926</td>\n",
       "      <td>0.012669</td>\n",
       "      <td>-0.047809</td>\n",
       "      <td>-0.052468</td>\n",
       "      <td>-0.024315</td>\n",
       "      <td>1.000000</td>\n",
       "      <td>0.048167</td>\n",
       "      <td>-0.065107</td>\n",
       "      <td>-0.050419</td>\n",
       "    </tr>\n",
       "    <tr>\n",
       "      <th>pdays</th>\n",
       "      <td>-0.022426</td>\n",
       "      <td>-0.025568</td>\n",
       "      <td>-0.036341</td>\n",
       "      <td>-0.051102</td>\n",
       "      <td>-0.012364</td>\n",
       "      <td>0.000174</td>\n",
       "      <td>-0.046070</td>\n",
       "      <td>-0.007223</td>\n",
       "      <td>-0.053277</td>\n",
       "      <td>0.048167</td>\n",
       "      <td>1.000000</td>\n",
       "      <td>-0.585882</td>\n",
       "      <td>-0.325360</td>\n",
       "    </tr>\n",
       "    <tr>\n",
       "      <th>previous</th>\n",
       "      <td>0.014722</td>\n",
       "      <td>0.020858</td>\n",
       "      <td>0.037611</td>\n",
       "      <td>0.037886</td>\n",
       "      <td>0.022045</td>\n",
       "      <td>-0.003128</td>\n",
       "      <td>0.100943</td>\n",
       "      <td>-0.004653</td>\n",
       "      <td>0.024751</td>\n",
       "      <td>-0.065107</td>\n",
       "      <td>-0.585882</td>\n",
       "      <td>1.000000</td>\n",
       "      <td>0.229580</td>\n",
       "    </tr>\n",
       "    <tr>\n",
       "      <th>y</th>\n",
       "      <td>0.018045</td>\n",
       "      <td>0.025570</td>\n",
       "      <td>0.044798</td>\n",
       "      <td>0.063124</td>\n",
       "      <td>0.010505</td>\n",
       "      <td>-0.004664</td>\n",
       "      <td>-0.004197</td>\n",
       "      <td>0.013375</td>\n",
       "      <td>0.407226</td>\n",
       "      <td>-0.050419</td>\n",
       "      <td>-0.325360</td>\n",
       "      <td>0.229580</td>\n",
       "      <td>1.000000</td>\n",
       "    </tr>\n",
       "  </tbody>\n",
       "</table>\n",
       "</div>"
      ],
      "text/plain": [
       "                  age       job   marital  education   housing      loan  \\\n",
       "age          1.000000 -0.010307 -0.395168  -0.057310 -0.004140 -0.007438   \n",
       "job         -0.010307  1.000000  0.024212   0.113924  0.006973 -0.011273   \n",
       "marital     -0.395168  0.024212  1.000000   0.095408  0.010688  0.004776   \n",
       "education   -0.057310  0.113924  0.095408   1.000000  0.015425  0.007502   \n",
       "housing     -0.004140  0.006973  0.010688   0.015425  1.000000  0.048104   \n",
       "loan        -0.007438 -0.011273  0.004776   0.007502  0.048104  1.000000   \n",
       "month       -0.030256 -0.033073 -0.012736  -0.091713 -0.019216 -0.008897   \n",
       "day_of_week -0.023745 -0.004001  0.002626  -0.017515  0.004176 -0.008593   \n",
       "duration     0.003201 -0.004288  0.006407  -0.013205 -0.010426 -0.005995   \n",
       "campaign     0.001104 -0.007703 -0.012412  -0.002690 -0.008926  0.012669   \n",
       "pdays       -0.022426 -0.025568 -0.036341  -0.051102 -0.012364  0.000174   \n",
       "previous     0.014722  0.020858  0.037611   0.037886  0.022045 -0.003128   \n",
       "y            0.018045  0.025570  0.044798   0.063124  0.010505 -0.004664   \n",
       "\n",
       "                month  day_of_week  duration  campaign     pdays  previous  \\\n",
       "age         -0.030256    -0.023745  0.003201  0.001104 -0.022426  0.014722   \n",
       "job         -0.033073    -0.004001 -0.004288 -0.007703 -0.025568  0.020858   \n",
       "marital     -0.012736     0.002626  0.006407 -0.012412 -0.036341  0.037611   \n",
       "education   -0.091713    -0.017515 -0.013205 -0.002690 -0.051102  0.037886   \n",
       "housing     -0.019216     0.004176 -0.010426 -0.008926 -0.012364  0.022045   \n",
       "loan        -0.008897    -0.008593 -0.005995  0.012669  0.000174 -0.003128   \n",
       "month        1.000000     0.027423  0.002469 -0.047809 -0.046070  0.100943   \n",
       "day_of_week  0.027423     1.000000  0.023641 -0.052468 -0.007223 -0.004653   \n",
       "duration     0.002469     0.023641  1.000000 -0.024315 -0.053277  0.024751   \n",
       "campaign    -0.047809    -0.052468 -0.024315  1.000000  0.048167 -0.065107   \n",
       "pdays       -0.046070    -0.007223 -0.053277  0.048167  1.000000 -0.585882   \n",
       "previous     0.100943    -0.004653  0.024751 -0.065107 -0.585882  1.000000   \n",
       "y           -0.004197     0.013375  0.407226 -0.050419 -0.325360  0.229580   \n",
       "\n",
       "                    y  \n",
       "age          0.018045  \n",
       "job          0.025570  \n",
       "marital      0.044798  \n",
       "education    0.063124  \n",
       "housing      0.010505  \n",
       "loan        -0.004664  \n",
       "month       -0.004197  \n",
       "day_of_week  0.013375  \n",
       "duration     0.407226  \n",
       "campaign    -0.050419  \n",
       "pdays       -0.325360  \n",
       "previous     0.229580  \n",
       "y            1.000000  "
      ]
     },
     "execution_count": 42,
     "metadata": {},
     "output_type": "execute_result"
    }
   ],
   "source": [
    "corr_data= data[['age','job','marital','education','housing','loan','month','day_of_week','duration','campaign','pdays','previous','y']]\n",
    "corr_data.corr()"
   ]
  },
  {
   "cell_type": "code",
   "execution_count": 43,
   "id": "27401005",
   "metadata": {},
   "outputs": [
    {
     "data": {
      "text/plain": [
       "<AxesSubplot:>"
      ]
     },
     "execution_count": 43,
     "metadata": {},
     "output_type": "execute_result"
    },
    {
     "data": {
      "image/png": "[encoded data removed]",
      "text/plain": [
       "<Figure size 720x576 with 2 Axes>"
      ]
     },
     "metadata": {},
     "output_type": "display_data"
    }
   ],
   "source": [
    "plt.figure(figsize=(10,8))\n",
    "sns.heatmap(corr_data.corr(), annot=True, fmt='0.3f', center=0,linewidths=.5)"
   ]
  },
  {
   "cell_type": "markdown",
   "id": "6438f7b5",
   "metadata": {},
   "source": [
    "# Univariate analysis"
   ]
  },
  {
   "cell_type": "code",
   "execution_count": 55,
   "id": "8bf030b9",
   "metadata": {
    "scrolled": true
   },
   "outputs": [
    {
     "data": {
      "application/vnd.jupyter.widget-view+json": {
       "model_id": "aa88119bed8d478883565ee9d4168658",
       "version_major": 2,
       "version_minor": 0
      },
      "text/plain": [
       "                                             |                                             | [  0%]   00:00 ->…"
      ]
     },
     "metadata": {},
     "output_type": "display_data"
    },
    {
     "name": "stdout",
     "output_type": "stream",
     "text": [
      "Report SWEETVIZ_REPORT.html was generated! NOTEBOOK/COLAB USERS: the web browser MAY not pop up, regardless, the report IS saved in your notebook/colab files.\n"
     ]
    }
   ],
   "source": [
    "import sweetviz as sv\n",
    "uni=sv.analyze(data)\n",
    "uni.show_html()"
   ]
  },
  {
   "cell_type": "code",
   "execution_count": 56,
   "id": "a4049f62",
   "metadata": {},
   "outputs": [
    {
     "data": {
      "image/png": "[encoded data removed]",
      "text/plain": [
       "<Figure size 600x400 with 1 Axes>"
      ]
     },
     "metadata": {},
     "output_type": "display_data"
    }
   ],
   "source": [
    "sns.countplot(x='age',data=data)\n",
    "plt.xticks(rotation = 90)\n",
    "plt.show()"
   ]
  },
  {
   "cell_type": "markdown",
   "id": "3746a78b",
   "metadata": {},
   "source": [
    "Most momey deposit by younger"
   ]
  },
  {
   "cell_type": "code",
   "execution_count": 57,
   "id": "c67e9e51",
   "metadata": {},
   "outputs": [
    {
     "data": {
      "image/png": "[encoded data removed]",
      "text/plain": [
       "<Figure size 600x400 with 1 Axes>"
      ]
     },
     "metadata": {},
     "output_type": "display_data"
    }
   ],
   "source": [
    "sns.countplot(x='job',data=data)\n",
    "plt.xticks(rotation = 90)\n",
    "plt.show()"
   ]
  },
  {
   "cell_type": "markdown",
   "id": "696971fc",
   "metadata": {},
   "source": [
    "more Admins people are deposited money"
   ]
  },
  {
   "cell_type": "code",
   "execution_count": 58,
   "id": "661c11c8",
   "metadata": {},
   "outputs": [
    {
     "data": {
      "image/png": "[encoded data removed]",
      "text/plain": [
       "<Figure size 600x400 with 1 Axes>"
      ]
     },
     "metadata": {},
     "output_type": "display_data"
    }
   ],
   "source": [
    "sns.countplot(x='marital',data=data)\n",
    "plt.xticks(rotation = 90)\n",
    "plt.show()"
   ]
  },
  {
   "cell_type": "markdown",
   "id": "b545609b",
   "metadata": {},
   "source": [
    "More married person are deposited money"
   ]
  },
  {
   "cell_type": "code",
   "execution_count": 60,
   "id": "f8e5439a",
   "metadata": {},
   "outputs": [
    {
     "data": {
      "image/png": "[encoded data removed]",
      "text/plain": [
       "<Figure size 600x400 with 1 Axes>"
      ]
     },
     "metadata": {},
     "output_type": "display_data"
    }
   ],
   "source": [
    "sns.countplot(x='education',data=data)\n",
    "plt.xticks(rotation = 90)\n",
    "plt.show()"
   ]
  },
  {
   "cell_type": "markdown",
   "id": "ab5430b1",
   "metadata": {},
   "source": [
    "Basic education people deposit more money"
   ]
  },
  {
   "cell_type": "code",
   "execution_count": 61,
   "id": "8dcef831",
   "metadata": {},
   "outputs": [
    {
     "data": {
      "image/png": "[encoded data removed]",
      "text/plain": [
       "<Figure size 600x400 with 1 Axes>"
      ]
     },
     "metadata": {},
     "output_type": "display_data"
    }
   ],
   "source": [
    "sns.countplot(x='housing',data=data)\n",
    "plt.xticks(rotation = 90)\n",
    "plt.show()"
   ]
  },
  {
   "cell_type": "markdown",
   "id": "5218130b",
   "metadata": {},
   "source": [
    "Those have house they deposit more money"
   ]
  },
  {
   "cell_type": "code",
   "execution_count": 62,
   "id": "c26d33b6",
   "metadata": {},
   "outputs": [
    {
     "data": {
      "image/png": "[encoded data removed]",
      "text/plain": [
       "<Figure size 600x400 with 1 Axes>"
      ]
     },
     "metadata": {},
     "output_type": "display_data"
    }
   ],
   "source": [
    "sns.countplot(x='loan',data=data)\n",
    "plt.xticks(rotation = 90)\n",
    "plt.show()"
   ]
  },
  {
   "cell_type": "markdown",
   "id": "caaa1ace",
   "metadata": {},
   "source": [
    "Who don't have loan they deposit more money"
   ]
  },
  {
   "cell_type": "code",
   "execution_count": 63,
   "id": "641635f8",
   "metadata": {},
   "outputs": [
    {
     "data": {
      "image/png": "[encoded data removed]",
      "text/plain": [
       "<Figure size 600x400 with 1 Axes>"
      ]
     },
     "metadata": {},
     "output_type": "display_data"
    }
   ],
   "source": [
    "sns.countplot(x='month',data=data)\n",
    "plt.xticks(rotation = 90)\n",
    "plt.show()"
   ]
  },
  {
   "cell_type": "markdown",
   "id": "04e619ff",
   "metadata": {},
   "source": [
    "Most people deposit money on may"
   ]
  },
  {
   "cell_type": "code",
   "execution_count": 64,
   "id": "35dedb72",
   "metadata": {},
   "outputs": [
    {
     "data": {
      "image/png": "[encoded data removed]",
      "text/plain": [
       "<Figure size 600x400 with 1 Axes>"
      ]
     },
     "metadata": {},
     "output_type": "display_data"
    }
   ],
   "source": [
    "sns.countplot(x='campaign',data=data)\n",
    "plt.xticks(rotation = 90)\n",
    "plt.show()"
   ]
  },
  {
   "cell_type": "markdown",
   "id": "5612b54c",
   "metadata": {},
   "source": [
    "Almost 19000 contact performed during campaign"
   ]
  },
  {
   "cell_type": "code",
   "execution_count": 65,
   "id": "9857c369",
   "metadata": {},
   "outputs": [
    {
     "data": {
      "image/png": "[encoded data removed]",
      "text/plain": [
       "<Figure size 600x400 with 1 Axes>"
      ]
     },
     "metadata": {},
     "output_type": "display_data"
    }
   ],
   "source": [
    "sns.countplot(x='pdays',data=data)\n",
    "plt.xticks(rotation = 90)\n",
    "plt.show()"
   ]
  },
  {
   "cell_type": "markdown",
   "id": "957aaa5a",
   "metadata": {},
   "source": [
    "people deposit money on very late after Campgain"
   ]
  },
  {
   "cell_type": "code",
   "execution_count": 67,
   "id": "630cc4ee",
   "metadata": {},
   "outputs": [
    {
     "data": {
      "image/png": "[encoded data removed]",
      "text/plain": [
       "<Figure size 600x400 with 1 Axes>"
      ]
     },
     "metadata": {},
     "output_type": "display_data"
    }
   ],
   "source": [
    "sns.countplot(x='previous',data=data)\n",
    "plt.xticks(rotation = 90)\n",
    "plt.show()"
   ]
  },
  {
   "cell_type": "markdown",
   "id": "cf59b824",
   "metadata": {},
   "source": [
    "Before campgain most of the employee deposit the money"
   ]
  },
  {
   "cell_type": "markdown",
   "id": "2665ec09",
   "metadata": {},
   "source": [
    "# Bi-variate Analysis"
   ]
  },
  {
   "cell_type": "code",
   "execution_count": 51,
   "id": "3b1b8293",
   "metadata": {},
   "outputs": [
    {
     "data": {
      "text/plain": [
       "<AxesSubplot:xlabel='marital', ylabel='y'>"
      ]
     },
     "execution_count": 51,
     "metadata": {},
     "output_type": "execute_result"
    },
    {
     "data": {
      "image/png": "[encoded data removed]",
      "text/plain": [
       "<Figure size 600x400 with 1 Axes>"
      ]
     },
     "metadata": {},
     "output_type": "display_data"
    }
   ],
   "source": [
    "sns.barplot(x=data['marital'], y=data['y'])"
   ]
  },
  {
   "cell_type": "code",
   "execution_count": 52,
   "id": "1a498c4a",
   "metadata": {},
   "outputs": [
    {
     "data": {
      "text/plain": [
       "<AxesSubplot:xlabel='job', ylabel='y'>"
      ]
     },
     "execution_count": 52,
     "metadata": {},
     "output_type": "execute_result"
    },
    {
     "data": {
      "image/png": "[encoded data removed]",
      "text/plain": [
       "<Figure size 600x400 with 1 Axes>"
      ]
     },
     "metadata": {},
     "output_type": "display_data"
    }
   ],
   "source": [
    "sns.barplot(x=data['job'], y=data['y'])"
   ]
  },
  {
   "cell_type": "code",
   "execution_count": 53,
   "id": "58a9be80",
   "metadata": {},
   "outputs": [
    {
     "data": {
      "text/plain": [
       "<AxesSubplot:xlabel='education', ylabel='y'>"
      ]
     },
     "execution_count": 53,
     "metadata": {},
     "output_type": "execute_result"
    },
    {
     "data": {
      "image/png": "[encoded data removed]",
      "text/plain": [
       "<Figure size 600x400 with 1 Axes>"
      ]
     },
     "metadata": {},
     "output_type": "display_data"
    }
   ],
   "source": [
    "sns.barplot(x=data['education'], y=data['y'])"
   ]
  },
  {
   "cell_type": "code",
   "execution_count": 54,
   "id": "ab3dcccb",
   "metadata": {},
   "outputs": [
    {
     "data": {
      "text/plain": [
       "<AxesSubplot:xlabel='housing', ylabel='y'>"
      ]
     },
     "execution_count": 54,
     "metadata": {},
     "output_type": "execute_result"
    },
    {
     "data": {
      "image/png": "[encoded data removed]",
      "text/plain": [
       "<Figure size 600x400 with 1 Axes>"
      ]
     },
     "metadata": {},
     "output_type": "display_data"
    }
   ],
   "source": [
    "sns.barplot(x=data['housing'], y=data['y'])"
   ]
  },
  {
   "cell_type": "code",
   "execution_count": 55,
   "id": "6ef20bcd",
   "metadata": {},
   "outputs": [
    {
     "data": {
      "text/plain": [
       "<AxesSubplot:xlabel='loan', ylabel='y'>"
      ]
     },
     "execution_count": 55,
     "metadata": {},
     "output_type": "execute_result"
    },
    {
     "data": {
      "image/png": "[encoded data removed]",
      "text/plain": [
       "<Figure size 600x400 with 1 Axes>"
      ]
     },
     "metadata": {},
     "output_type": "display_data"
    }
   ],
   "source": [
    "sns.barplot(x=data['loan'], y=data['y'])"
   ]
  },
  {
   "cell_type": "code",
   "execution_count": 56,
   "id": "a314cc2d",
   "metadata": {
    "scrolled": true
   },
   "outputs": [
    {
     "data": {
      "text/plain": [
       "<AxesSubplot:xlabel='previous', ylabel='y'>"
      ]
     },
     "execution_count": 56,
     "metadata": {},
     "output_type": "execute_result"
    },
    {
     "data": {
      "image/png": "[encoded data removed]",
      "text/plain": [
       "<Figure size 600x400 with 1 Axes>"
      ]
     },
     "metadata": {},
     "output_type": "display_data"
    }
   ],
   "source": [
    "sns.barplot(x=data['previous'], y=data['y'])"
   ]
  },
  {
   "cell_type": "code",
   "execution_count": 46,
   "id": "32d42706",
   "metadata": {},
   "outputs": [],
   "source": [
    "min_max_scaler=preprocessing.MinMaxScaler()\n",
    "data_scaled=pd.DataFrame(min_max_scaler.fit_transform(data),columns=data.columns)"
   ]
  },
  {
   "cell_type": "markdown",
   "id": "d29b1ab5",
   "metadata": {},
   "source": [
    "# Model development"
   ]
  },
  {
   "cell_type": "code",
   "execution_count": 47,
   "id": "c740da7a",
   "metadata": {},
   "outputs": [],
   "source": [
    "X = data.drop('y',axis = 1).values\n",
    "y = data['y'].values\n",
    "X_train, X_test, Y_train, Y_test = train_test_split(X, y, test_size=0.25, random_state=42)"
   ]
  },
  {
   "cell_type": "code",
   "execution_count": 59,
   "id": "65782b00",
   "metadata": {},
   "outputs": [
    {
     "data": {
      "text/plain": [
       "array([0, 0, 0, ..., 0, 0, 0])"
      ]
     },
     "execution_count": 59,
     "metadata": {},
     "output_type": "execute_result"
    }
   ],
   "source": [
    "y"
   ]
  },
  {
   "cell_type": "code",
   "execution_count": 48,
   "id": "f2f6f8d9",
   "metadata": {},
   "outputs": [],
   "source": [
    "# Data Normalization"
   ]
  },
  {
   "cell_type": "code",
   "execution_count": 49,
   "id": "3eae5589",
   "metadata": {},
   "outputs": [],
   "source": [
    "scaler = StandardScaler()\n",
    "scaler.fit(X_train)\n",
    "X_train = scaler.fit_transform(X_train)"
   ]
  },
  {
   "cell_type": "code",
   "execution_count": 50,
   "id": "51b1acd4",
   "metadata": {},
   "outputs": [],
   "source": [
    "pca = PCA(n_components=10)\n",
    "pca.fit(X_train)\n",
    "X_train = pca.fit_transform(X_train)"
   ]
  },
  {
   "cell_type": "code",
   "execution_count": 51,
   "id": "fc966684",
   "metadata": {},
   "outputs": [
    {
     "data": {
      "text/plain": [
       "(32825, 10)"
      ]
     },
     "execution_count": 51,
     "metadata": {},
     "output_type": "execute_result"
    }
   ],
   "source": [
    "X_train.shape"
   ]
  },
  {
   "cell_type": "code",
   "execution_count": 52,
   "id": "24b5d131",
   "metadata": {},
   "outputs": [
    {
     "data": {
      "text/plain": [
       "(32825,)"
      ]
     },
     "execution_count": 52,
     "metadata": {},
     "output_type": "execute_result"
    }
   ],
   "source": [
    "Y_train.shape"
   ]
  },
  {
   "cell_type": "markdown",
   "id": "1f35659e",
   "metadata": {},
   "source": [
    "# Building different Models and validating using 10 fold cross validation"
   ]
  },
  {
   "cell_type": "code",
   "execution_count": 64,
   "id": "ffe94aec",
   "metadata": {},
   "outputs": [],
   "source": [
    "models = []\n",
    "models.append(('LR', LogisticRegression()))\n",
    "models.append(('LDA', LinearDiscriminantAnalysis()))\n",
    "models.append(('KNN', KNeighborsClassifier()))\n",
    "models.append(('Decison-Tree', DecisionTreeClassifier()))\n",
    "models.append(('Gaussian', GaussianNB()))\n",
    "models.append(('SVM', SVC()))\n",
    "models.append(('RandForest',RandomForestClassifier(max_depth = 8, n_estimators = 120)))\n",
    "models.append(('ADA', AdaBoostClassifier(n_estimators = 120)))"
   ]
  },
  {
   "cell_type": "code",
   "execution_count": 65,
   "id": "be9a7a56",
   "metadata": {},
   "outputs": [],
   "source": [
    "from sklearn.model_selection import RandomizedSearchCV"
   ]
  },
  {
   "cell_type": "code",
   "execution_count": 66,
   "id": "8008f746",
   "metadata": {},
   "outputs": [
    {
     "name": "stdout",
     "output_type": "stream",
     "text": [
      "LR: 0.9035995662058859\n",
      "LDA: 0.8985707323442396\n",
      "KNN: 0.8959804395183542\n",
      "Decison-Tree: 0.8744324375325145\n",
      "Gaussian: 0.897686836904297\n",
      "SVM: 0.9023804721327773\n",
      "RandForest: 0.9038433478742398\n",
      "ADA: 0.8990278171682992\n"
     ]
    }
   ],
   "source": [
    "results = []\n",
    "names = []\n",
    "for name, model in models:\n",
    "    kfold = model_selection.KFold(n_splits=10) #, random_state=42)\n",
    "    cv_results = model_selection.cross_val_score(model, X_train, Y_train, cv=kfold, scoring='accuracy')\n",
    "    results.append(cv_results)\n",
    "    names.append(name)\n",
    "    msg = \"{}: {}\".format(name, cv_results.mean())\n",
    "    print(msg)"
   ]
  },
  {
   "cell_type": "markdown",
   "id": "4c17ce17",
   "metadata": {},
   "source": [
    "Logistic Regression obtained the highest accuracy with lesser runtime and is more stable in the results. Even SVM and Random Forest obtained the similar accuracy but have higher runtime compared to Logistic Regession"
   ]
  },
  {
   "cell_type": "markdown",
   "id": "9bda02ab",
   "metadata": {},
   "source": [
    "# Testing with the test data"
   ]
  },
  {
   "cell_type": "code",
   "execution_count": 70,
   "id": "1af1ef2e",
   "metadata": {},
   "outputs": [],
   "source": [
    "scaler.fit(X_test)\n",
    "X_test = scaler.fit_transform(X_test)"
   ]
  },
  {
   "cell_type": "code",
   "execution_count": 71,
   "id": "6a7d42c5",
   "metadata": {},
   "outputs": [],
   "source": [
    "pca.fit(X_test)\n",
    "X_test = pca.fit_transform(X_test)"
   ]
  },
  {
   "cell_type": "code",
   "execution_count": 72,
   "id": "2577386e",
   "metadata": {},
   "outputs": [
    {
     "name": "stdout",
     "output_type": "stream",
     "text": [
      "Accuracy :  0.9012526286915973\n",
      "Confusion Matrix : \n",
      " [[9611  126]\n",
      " [ 954  246]]\n",
      "Classification Report: \n",
      "               precision    recall  f1-score   support\n",
      "\n",
      "           0       0.91      0.99      0.95      9737\n",
      "           1       0.66      0.20      0.31      1200\n",
      "\n",
      "    accuracy                           0.90     10937\n",
      "   macro avg       0.79      0.60      0.63     10937\n",
      "weighted avg       0.88      0.90      0.88     10937\n",
      "\n"
     ]
    }
   ],
   "source": [
    "lr = LogisticRegression()\n",
    "lr.fit(X_train, Y_train)\n",
    "predictions = lr.predict(X_test)\n",
    "print(\"Accuracy : \", accuracy_score(Y_test, predictions))\n",
    "print(\"Confusion Matrix : \\n\",confusion_matrix(Y_test, predictions))\n",
    "print(\"Classification Report: \\n\",classification_report(Y_test, predictions))"
   ]
  },
  {
   "cell_type": "markdown",
   "id": "fd71bdbc",
   "metadata": {},
   "source": [
    "Conclusion:\n",
    "\n",
    "Logistic regression score showing satasfication to the problem."
   ]
  },
  {
   "cell_type": "code",
   "execution_count": null,
   "id": "72ad4951",
   "metadata": {},
   "outputs": [],
   "source": []
  }
 ],
 "metadata": {
  "kernelspec": {
   "display_name": "Python 3 (ipykernel)",
   "language": "python",
   "name": "python3"
  },
  "language_info": {
   "codemirror_mode": {
    "name": "ipython",
    "version": 3
   },
   "file_extension": ".py",
   "mimetype": "text/x-python",
   "name": "python",
   "nbconvert_exporter": "python",
   "pygments_lexer": "ipython3",
   "version": "3.9.12"
  }
 },
 "nbformat": 4,
 "nbformat_minor": 5
}
